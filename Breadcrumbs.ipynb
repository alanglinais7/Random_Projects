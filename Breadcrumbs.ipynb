{
 "cells": [
  {
   "cell_type": "markdown",
   "metadata": {},
   "source": [
    "https://www.codewars.com/kata/563fbac924106b8bf7000046/train/python\n",
    "As breadcrumb menùs are quite popular today, I won't digress much on explaining them, leaving the wiki link to do all the dirty work in my place.\n",
    "\n",
    "What might not be so trivial is instead to get a decent breadcrumb from your current url. For this kata, your purpose is to create a function that takes a url, strips the first part (labelling it always HOME) and then builds it making each element but the last a <a> element linking to the relevant path; last has to be a <span> element getting the active class.\n",
    "\n",
    "All elements need to be turned to uppercase and separated by a separator, given as the second parameter of the function; the last element can terminate in some common extension like .html, .htm, .php or .asp; if the name of the last element is index.something, you treat it as if it wasn't there, sending users automatically to the upper level folder.\n",
    "\n",
    "A few examples can be more helpful than thousands of words of explanation, so here you have them:\n",
    "\n",
    "generate_bc(\"mysite.com/pictures/holidays.html\", \" : \") == '<a href=\"/\">HOME</a> : <a href=\"/pictures/\">PICTURES</a> : <span class=\"active\">HOLIDAYS</span>'\n",
    "generate_bc(\"www.codewars.com/users/GiacomoSorbi\", \" / \") == '<a href=\"/\">HOME</a> / <a href=\"/users/\">USERS</a> / <span class=\"active\">GIACOMOSORBI</span>'\n",
    "generate_bc(\"www.microsoft.com/docs/index.htm\", \" * \") == '<a href=\"/\">HOME</a> * <span class=\"active\">DOCS</span>'\n",
    "Seems easy enough?\n",
    "\n",
    "Well, probably not so much, but we have one last extra rule: if one element (other than the root/home) is longer than 30 characters, you have to shorten it, acronymizing it (i.e.: taking just the initials of every word); url will be always given in the format this-is-an-element-of-the-url and you should ignore words in this array while acronymizing: [\"the\",\"of\",\"in\",\"from\",\"by\",\"with\",\"and\", \"or\", \"for\", \"to\", \"at\", \"a\"]; a url composed of more words separated by - and equal or less than 30 characters long needs to be just uppercased with hyphens replaced by spaces.\n",
    "\n",
    "Ignore anchors (www.url.com#lameAnchorExample) and parameters (www.url.com?codewars=rocks&pippi=rocksToo) when present.\n",
    "\n",
    "Examples:\n",
    "\n",
    "generate_bc(\"mysite.com/very-long-url-to-make-a-silly-yet-meaningful-example/example.htm\", \" > \") == '<a href=\"/\">HOME</a> > <a href=\"/very-long-url-to-make-a-silly-yet-meaningful-example/\">VLUMSYME</a> > <span class=\"active\">EXAMPLE</span>'\n",
    "generate_bc(\"www.very-long-site_name-to-make-a-silly-yet-meaningful-example.com/users/giacomo-sorbi\", \" + \") == '<a href=\"/\">HOME</a> + <a href=\"/users/\">USERS</a> + <span class=\"active\">GIACOMO SORBI</span>'\n",
    "You will always be provided valid url to webpages in common formats, so you probably shouldn't bother validating them.\n",
    "\n",
    "If you like to test yourself with actual work/interview related kata, please also consider this one about building a string filter for Angular.js.\n",
    "\n",
    "Special thanks to the colleague that, seeing my code and commenting that I worked on that as if it was I was on CodeWars, made me realize that it could be indeed a good idea for a kata :)"
   ]
  },
  {
   "cell_type": "code",
   "execution_count": 174,
   "metadata": {},
   "outputs": [],
   "source": [
    "import re\n",
    "ignore = [\"the\",\"of\",\"in\",\"from\",\"by\",\"with\",\"and\", \"or\", \"for\", \"to\", \"at\", \"a\"]\n",
    "home = '<a href=\"/\">HOME</a> '"
   ]
  },
  {
   "cell_type": "code",
   "execution_count": 213,
   "metadata": {},
   "outputs": [],
   "source": [
    "def a_href(item, path):\n",
    "    if len(item) > 30:\n",
    "        item = acronym(item)\n",
    "    else:\n",
    "        if len(item.split('-')) > 1:\n",
    "            item = item.replace(\"-\", \" \")\n",
    "    return ' <a href=\"/' + path + '/\">' + item.upper() + '</a> '"
   ]
  },
  {
   "cell_type": "code",
   "execution_count": 223,
   "metadata": {},
   "outputs": [],
   "source": [
    "def test_ending(levels):\n",
    "    x = re.split('\\.|\\?|#', levels[-1])\n",
    "    if len(x) > 1:\n",
    "        levels.pop(-1)\n",
    "        levels.append(x[0])\n",
    "    if levels[-1] == 'index' or levels[-1] == '':\n",
    "        levels.pop(-1)\n",
    "    return levels"
   ]
  },
  {
   "cell_type": "code",
   "execution_count": 251,
   "metadata": {},
   "outputs": [],
   "source": [
    "def last(levels):\n",
    "    if len(levels[-1]) > 30:\n",
    "        levels[-1] = acronym(levels[-1])\n",
    "    elif len(levels[-1].split('-')) > 1:\n",
    "        levels[-1] = levels[-1].replace(\"-\", \" \")\n",
    "    last_url = ' <span class=\"active\">' + levels[-1].upper() + '</span>'\n",
    "    return last_url"
   ]
  },
  {
   "cell_type": "code",
   "execution_count": 173,
   "metadata": {},
   "outputs": [],
   "source": [
    "def middle_set(levels):\n",
    "    n = 0\n",
    "    path = ''\n",
    "    for x in levels:\n",
    "        if n > 0:\n",
    "            path = path + '/' + x\n",
    "        else:\n",
    "            path = x\n",
    "        temp = a_href(x, path)\n",
    "        levels[n] = temp\n",
    "        n += 1\n",
    "    return levels\n",
    "#         levels.append(temp)\n",
    "#         levels.remove(x)"
   ]
  },
  {
   "cell_type": "code",
   "execution_count": 202,
   "metadata": {},
   "outputs": [],
   "source": [
    "def acronym(long):\n",
    "    temp = long.split('-')\n",
    "    acronym = []\n",
    "    remove = []\n",
    "    for x in temp:\n",
    "        if x in ignore:\n",
    "            remove.append(x)\n",
    "    for x in remove:\n",
    "        temp.remove(x)\n",
    "    for x in temp:\n",
    "        acronym.append(x[0])\n",
    "    final = ''.join(acronym)\n",
    "    return final.upper()"
   ]
  },
  {
   "cell_type": "code",
   "execution_count": 227,
   "metadata": {},
   "outputs": [],
   "source": [
    "def check_url(levels):\n",
    "    remove = []\n",
    "    for x in levels:\n",
    "        if x == '' or x == 'https:' or x == 'http:':\n",
    "            remove.append(x)\n",
    "    for x in remove:\n",
    "        levels.remove(x)\n",
    "    return levels"
   ]
  },
  {
   "cell_type": "code",
   "execution_count": 201,
   "metadata": {},
   "outputs": [
    {
     "data": {
      "text/plain": [
       "'TIAEUINBTP'"
      ]
     },
     "execution_count": 201,
     "metadata": {},
     "output_type": "execute_result"
    }
   ],
   "source": [
    "acronym('this-is-an-element-of-the-url-and-it-needs-to-be-tested-properly')"
   ]
  },
  {
   "cell_type": "code",
   "execution_count": 263,
   "metadata": {},
   "outputs": [],
   "source": [
    "def generate_bc(url, separator):\n",
    "    levels = url.split('/')\n",
    "    print(levels)\n",
    "    test_ending(levels)\n",
    "    check_url(levels)\n",
    "    ending = last(levels)\n",
    "    if len(levels) == 1:\n",
    "        return '<span class=\"active\">' + 'HOME' + '</span>'\n",
    "    levels.pop(0) #allow for home addition\n",
    "    levels.pop(-1) #last tag is special, already called above\n",
    "    middle_set(levels)\n",
    "    middle = separator.join(levels)\n",
    "    if middle == '':\n",
    "        return home + separator + ending\n",
    "    breadcrumb = home + separator + middle + separator + ending\n",
    "    return breadcrumb"
   ]
  },
  {
   "cell_type": "code",
   "execution_count": 264,
   "metadata": {},
   "outputs": [
    {
     "name": "stdout",
     "output_type": "stream",
     "text": [
      "['agcpartners.co.uk', 'in-in-insider-uber-uber-bed-insider-bioengineering']\n"
     ]
    },
    {
     "data": {
      "text/plain": [
       "'<a href=\"/\">HOME</a> / <span class=\"active\">IUUBIB</span>'"
      ]
     },
     "execution_count": 264,
     "metadata": {},
     "output_type": "execute_result"
    }
   ],
   "source": [
    "generate_bc('agcpartners.co.uk/in-in-insider-uber-uber-bed-insider-bioengineering',  '/')"
   ]
  },
  {
   "cell_type": "code",
   "execution_count": 85,
   "metadata": {},
   "outputs": [],
   "source": [
    "Expected: &lt;a href=\"/\"&gt;HOME&lt;/a&gt; * &lt;a href=\"/in/\"&gt;IN&lt;/a&gt; * &lt;span class=\"active\"&gt;GIACOMOSORBI&lt;/span&gt; - instead \n",
    "     got: &lt;a href=\"/\"&gt;HOME&lt;/a&gt; * &lt;a href=\"//\"&gt;&lt;/a&gt; * &lt;a href=\"//www.linkedin.com/\"&gt;WWW.LINKEDIN.COM&lt;/a&gt; * &lt;a href=\"//www.linkedin.com/in/\"&gt;IN&lt;/a&gt; * &lt;span class=\"active\"&gt;GIACOMOSORBI&lt;/span&gt;\n",
    "\n",
    "\n",
    "\n",
    "Expected: &lt;a href=\"/\"&gt;HOME&lt;/a&gt; / &lt;span class=\"active\"&gt;IUUBIB&lt;/span&gt; - instead \n",
    "     got: &lt;a href=\"/\"&gt;HOME&lt;/a&gt; /  / &lt;span class=\"active\"&gt;IUUBIB&lt;/span&gt;  \n",
    "            \n",
    "            \n",
    "\n",
    "\n"
   ]
  },
  {
   "cell_type": "code",
   "execution_count": 104,
   "metadata": {},
   "outputs": [
    {
     "data": {
      "text/plain": [
       "['GiacomoSorbi', 'ref=CodeWars']"
      ]
     },
     "execution_count": 104,
     "metadata": {},
     "output_type": "execute_result"
    }
   ],
   "source": [
    "wtf = ['GiacomoSorbi?ref=CodeWars']\n",
    "wtf[0].split('?')"
   ]
  },
  {
   "cell_type": "code",
   "execution_count": null,
   "metadata": {},
   "outputs": [],
   "source": []
  }
 ],
 "metadata": {
  "kernelspec": {
   "display_name": "Python 3",
   "language": "python",
   "name": "python3"
  },
  "language_info": {
   "codemirror_mode": {
    "name": "ipython",
    "version": 3
   },
   "file_extension": ".py",
   "mimetype": "text/x-python",
   "name": "python",
   "nbconvert_exporter": "python",
   "pygments_lexer": "ipython3",
   "version": "3.8.5"
  }
 },
 "nbformat": 4,
 "nbformat_minor": 4
}
