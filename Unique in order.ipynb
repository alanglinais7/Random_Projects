{
 "cells": [
  {
   "cell_type": "code",
   "execution_count": 91,
   "metadata": {},
   "outputs": [],
   "source": [
    "def unique_in_order(iterable):\n",
    "    new = list(iterable)\n",
    "    n=0\n",
    "    remove = []\n",
    "    for x in new:\n",
    "        if n == 0:\n",
    "            n+=1\n",
    "        else:\n",
    "            if x == new[n-1]:\n",
    "                remove.append(n)\n",
    "            n+=1\n",
    "    z = len(remove)\n",
    "    for x in remove:\n",
    "        new[x] = 0\n",
    "    for x in range(z):\n",
    "        new.remove(0)\n",
    "    return new        "
   ]
  },
  {
   "cell_type": "code",
   "execution_count": 92,
   "metadata": {},
   "outputs": [
    {
     "name": "stdout",
     "output_type": "stream",
     "text": [
      "[1, 2, 3, 5, 6, 8, 11, 13, 14]\n",
      "['A', 0, 0, 0, 'B', 0, 0, 'C', 0, 'D', 'A', 0, 'B', 0, 0]\n"
     ]
    },
    {
     "data": {
      "text/plain": [
       "['A', 'B', 'C', 'D', 'A', 'B']"
      ]
     },
     "execution_count": 92,
     "metadata": {},
     "output_type": "execute_result"
    }
   ],
   "source": [
    "unique_in_order('AAAABBBCCDAABBB')"
   ]
  },
  {
   "cell_type": "code",
   "execution_count": null,
   "metadata": {},
   "outputs": [],
   "source": []
  }
 ],
 "metadata": {
  "kernelspec": {
   "display_name": "Python 3",
   "language": "python",
   "name": "python3"
  },
  "language_info": {
   "codemirror_mode": {
    "name": "ipython",
    "version": 3
   },
   "file_extension": ".py",
   "mimetype": "text/x-python",
   "name": "python",
   "nbconvert_exporter": "python",
   "pygments_lexer": "ipython3",
   "version": "3.8.5"
  }
 },
 "nbformat": 4,
 "nbformat_minor": 4
}
