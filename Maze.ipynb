{
 "cells": [
  {
   "cell_type": "code",
   "execution_count": 63,
   "metadata": {},
   "outputs": [
    {
     "name": "stdout",
     "output_type": "stream",
     "text": [
      ".W...\n",
      ".W...\n",
      ".W.W.\n",
      "...W.\n",
      "...W.\n"
     ]
    }
   ],
   "source": [
    "#print maze for demonstration\n",
    "a = \"\\n\".join([\n",
    "\".W...\",\n",
    "\".W...\",\n",
    "\".W.W.\",\n",
    "\"...W.\",\n",
    "\"...W.\"])\n",
    "print (a)"
   ]
  },
  {
   "cell_type": "code",
   "execution_count": 64,
   "metadata": {},
   "outputs": [
    {
     "name": "stdout",
     "output_type": "stream",
     "text": [
      "[['.', 'W', '.', '.', '.'], ['.', 'W', '.', '.', '.'], ['.', 'W', '.', 'W', '.'], ['.', '.', '.', 'W', '.'], ['.', '.', '.', 'W', '.']]\n"
     ]
    },
    {
     "data": {
      "text/plain": [
       "'W'"
      ]
     },
     "execution_count": 64,
     "metadata": {},
     "output_type": "execute_result"
    }
   ],
   "source": [
    "#changing maze to matrix\n",
    "mat = []\n",
    "b = a.split(\"\\n\")\n",
    "for x in b:\n",
    "    x = list(x)\n",
    "    mat.append(x)\n",
    "print(mat)\n",
    "mat[4][3]"
   ]
  },
  {
   "cell_type": "code",
   "execution_count": 83,
   "metadata": {},
   "outputs": [],
   "source": [
    "#figure out left hand algorithm\n",
    "i, j = 0, 0\n",
    "def go_down(i, j):\n",
    "    i+=1\n",
    "    return i, j\n",
    "def go_up(i, j):\n",
    "    i = i-1\n",
    "    return i, j\n",
    "def go_right(i, j):\n",
    "    j+=1\n",
    "    return i, j\n",
    "def go_left(i, j):\n",
    "    j = j-1\n",
    "    return i, j  "
   ]
  },
  {
   "cell_type": "code",
   "execution_count": 81,
   "metadata": {},
   "outputs": [],
   "source": [
    "#finalized solution\n",
    "import math\n",
    "def path_finder(maze):\n",
    "    #determine size of maze\n",
    "    n = len(maze)\n",
    "    n = math.floor(n**.5)\n",
    "    #change to matrix\n",
    "    mat = []\n",
    "    b = a.split(\"\\n\")\n",
    "    for x in b:\n",
    "        x = list(x)\n",
    "        mat.append(x)\n",
    "    solution = mat[n-1][n-1]\n",
    "    "
   ]
  },
  {
   "cell_type": "code",
   "execution_count": 82,
   "metadata": {},
   "outputs": [
    {
     "name": "stdout",
     "output_type": "stream",
     "text": [
      "4\n"
     ]
    }
   ],
   "source": [
    "path_finder(a)"
   ]
  },
  {
   "cell_type": "code",
   "execution_count": null,
   "metadata": {},
   "outputs": [],
   "source": []
  }
 ],
 "metadata": {
  "kernelspec": {
   "display_name": "Python 3",
   "language": "python",
   "name": "python3"
  },
  "language_info": {
   "codemirror_mode": {
    "name": "ipython",
    "version": 3
   },
   "file_extension": ".py",
   "mimetype": "text/x-python",
   "name": "python",
   "nbconvert_exporter": "python",
   "pygments_lexer": "ipython3",
   "version": "3.8.5"
  }
 },
 "nbformat": 4,
 "nbformat_minor": 4
}
