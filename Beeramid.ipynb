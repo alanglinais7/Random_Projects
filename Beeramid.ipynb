{
 "cells": [
  {
   "cell_type": "code",
   "execution_count": 98,
   "metadata": {},
   "outputs": [],
   "source": [
    "import math\n",
    "def beeramid(bonus, price):\n",
    "    amount = math.floor(bonus/price)\n",
    "    cans = [0]\n",
    "    n=1\n",
    "    for y in range(100):\n",
    "        z = y**2 + cans[-1]\n",
    "        cans.append(z)\n",
    "    cans.remove(0)\n",
    "    cans.remove(0)\n",
    "    if bonus < price:\n",
    "        return 0\n",
    "    for x in cans:\n",
    "        if amount > x:\n",
    "            n+=1\n",
    "            pass\n",
    "        elif amount == x:\n",
    "            return n\n",
    "        else:\n",
    "            return n-1"
   ]
  },
  {
   "cell_type": "code",
   "execution_count": 99,
   "metadata": {},
   "outputs": [
    {
     "data": {
      "text/plain": [
       "1"
      ]
     },
     "execution_count": 99,
     "metadata": {},
     "output_type": "execute_result"
    }
   ],
   "source": [
    "beeramid(9,2)"
   ]
  },
  {
   "cell_type": "code",
   "execution_count": 37,
   "metadata": {},
   "outputs": [
    {
     "data": {
      "text/plain": [
       "14.0"
      ]
     },
     "execution_count": 37,
     "metadata": {},
     "output_type": "execute_result"
    }
   ],
   "source": [
    "21/1.5"
   ]
  },
  {
   "cell_type": "code",
   "execution_count": 22,
   "metadata": {},
   "outputs": [
    {
     "name": "stdout",
     "output_type": "stream",
     "text": [
      "[1, 5, 15, 37, 83, 177, 367, 749, 1515, 3049, 6119, 12261, 24547, 49121, 98271, 196573, 393179, 786393, 1572823, 3145685, 6291411, 12582865, 25165775, 50331597, 100663243, 201326537, 402653127, 805306309, 1610612675, 3221225409, 6442450879, 12884901821, 25769803707, 51539607481, 103079215031, 206158430133, 412316860339, 824633720753, 1649267441583, 3298534883245, 6597069766571, 13194139533225, 26388279066535, 52776558133157, 105553116266403, 211106232532897, 422212465065887, 844424930131869, 1688849860263835, 3377699720527769, 6755399441055639, 13510798882111381, 27021597764222867, 54043195528445841, 108086391056891791, 216172782113783693, 432345564227567499, 864691128455135113, 1729382256910270343, 3458764513820540805, 6917529027641081731, 13835058055282163585, 27670116110564327295, 55340232221128654717, 110680464442257309563, 221360928884514619257, 442721857769029238647, 885443715538058477429, 1770887431076116954995, 3541774862152233910129, 7083549724304467820399, 14167099448608935640941, 28334198897217871282027, 56668397794435742564201, 113336795588871485128551, 226673591177742970257253, 453347182355485940514659, 906694364710971881029473, 1813388729421943762059103, 3626777458843887524118365, 7253554917687775048236891, 14507109835375550096473945, 29014219670751100192948055, 58028439341502200385896277, 116056878683004400771792723, 232113757366008801543585617, 464227514732017603087171407, 928455029464035206174342989, 1856910058928070412348686155, 3713820117856140824697372489, 7427640235712281649394745159, 14855280471424563298789490501, 29710560942849126597578981187, 59421121885698253195157962561, 118842243771396506390315925311, 237684487542793012780631850813, 475368975085586025561263701819, 950737950171172051122527403833, 1901475900342344102245054807863]\n"
     ]
    }
   ],
   "source": [
    "cans = []\n",
    "for y in range(100):\n",
    "    z = y**2 + sum(cans)\n",
    "    cans.append(z)\n",
    "cans.remove(0)\n",
    "print (cans)"
   ]
  },
  {
   "cell_type": "code",
   "execution_count": 19,
   "metadata": {},
   "outputs": [
    {
     "ename": "NameError",
     "evalue": "name 'cans' is not defined",
     "output_type": "error",
     "traceback": [
      "\u001b[0;31m---------------------------------------------------------------------------\u001b[0m",
      "\u001b[0;31mNameError\u001b[0m                                 Traceback (most recent call last)",
      "\u001b[0;32m<ipython-input-19-18b5808f8667>\u001b[0m in \u001b[0;36m<module>\u001b[0;34m\u001b[0m\n\u001b[0;32m----> 1\u001b[0;31m \u001b[0mprint\u001b[0m \u001b[0;34m(\u001b[0m\u001b[0mcans\u001b[0m\u001b[0;34m)\u001b[0m\u001b[0;34m\u001b[0m\u001b[0;34m\u001b[0m\u001b[0m\n\u001b[0m",
      "\u001b[0;31mNameError\u001b[0m: name 'cans' is not defined"
     ]
    }
   ],
   "source": [
    "print (cans)"
   ]
  },
  {
   "cell_type": "code",
   "execution_count": null,
   "metadata": {},
   "outputs": [],
   "source": []
  }
 ],
 "metadata": {
  "kernelspec": {
   "display_name": "Python 3",
   "language": "python",
   "name": "python3"
  },
  "language_info": {
   "codemirror_mode": {
    "name": "ipython",
    "version": 3
   },
   "file_extension": ".py",
   "mimetype": "text/x-python",
   "name": "python",
   "nbconvert_exporter": "python",
   "pygments_lexer": "ipython3",
   "version": "3.8.5"
  }
 },
 "nbformat": 4,
 "nbformat_minor": 4
}
