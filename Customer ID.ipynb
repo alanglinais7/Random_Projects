{
 "cells": [
  {
   "cell_type": "markdown",
   "metadata": {},
   "source": [
    "https://www.codewars.com/kata/5f25f475420f1b002412bb1f/train/python\n",
    "Introduction\n",
    "\n",
    "Let’s assume that when you register a car you are assigned two numbers:\n",
    "\n",
    "Customer ID – number between 0 and 17558423 inclusively. It is assigned to car buyers in the following order: the first customer receives an ID of 0, the second customer receives an ID of 1, the third - 2, and so on;\n",
    "\n",
    "A Number Plate – 6-character combination composed of the series - three Latin lowercase letters from a to z; and the serial number - three digits from 0 to 9. Example: aaa001, xyz123, tok469;\n",
    "\n",
    "Each Number Plate is related to the given Customer ID. For example:\n",
    "\n",
    "Customer ID of 0: aaa001\n",
    "\n",
    "Customer ID of 21: aaa022\n",
    "\n",
    "Customer ID of 169: aaa170\n",
    "\n",
    "Your Task\n",
    "\n",
    "Write a function\n",
    "find_the_number_plate\n",
    "\n",
    "which takes the Customer ID as an argument, calculates the Number Plate corresponding to this ID and returns it as a string;\n",
    "\n",
    "Rules\n",
    "\n",
    "The serial number changes first. For each 3-letter series it goes through 001 to 999, such as: aaa001, aaa002, aaa003, ......, aaa998, aaa999\n",
    "\n",
    "The leftmost letter in the series switches alphabetically each time after the serial number has moved through 001 to 999 inclusively;\n",
    "\n",
    "aaa001...aaa999\n",
    "at this point the leftmost letter will switch alphabetically, while the serial number repeats the same cycle again;\n",
    "\n",
    "baa001...baa999,\n",
    "...... ,\n",
    "zaa001...zaa999\n",
    "The middle letter switches alphabetically each time after the leftmost letter has moved through a to z and the z** series has moved through 001 to 999.\n",
    "\n",
    "zaa001...zaa999\n",
    "at this point the middle letter will switch alphabetically, while the the leftmost letter and the serial number repeat the same cycle again;\n",
    "\n",
    "aba001...aba999,\n",
    "bba001...bba999,\n",
    "......,\n",
    "zza001...zza999\n",
    "The rightmost letter switches alphabetically each time after the middle letter has moved through a to z and the zz* series has moved through 001 to 999.\n",
    "\n",
    "zza001...zza999\n",
    "at this point the rightmost letter will switch alphabetically, while the middle letter, the leftmost letter, and the serial number repeat the same cycle again;\n",
    "\n",
    "aab001...aab999,\n",
    "bab001...bab999,\n",
    "......,\n",
    "zab001...zab999,\n",
    "abb001...abb999,\n",
    "bbb001...bbb999,\n",
    "......,\n",
    "zbb001...zbb999,\n",
    "acb001...acb999,\n",
    "......, \n",
    "zzz001...zzz999\n",
    "Note\n",
    "\n",
    "If the serial number has less than 3 digits, the missing places should be adjusted with zeroes.\n",
    "i.e: 12 should equal 012; 4 should equal 004.\n",
    "\n",
    "Once again, the customer ID starts with 0.\n",
    "\n",
    "Good luck!"
   ]
  },
  {
   "cell_type": "code",
   "execution_count": 18,
   "metadata": {},
   "outputs": [],
   "source": [
    "import math"
   ]
  },
  {
   "cell_type": "code",
   "execution_count": 82,
   "metadata": {},
   "outputs": [],
   "source": [
    "letters = list('abcdefghijklmnopqrstuvwxyz')\n",
    "def find_the_number_plate(customer_id):\n",
    "    repo = {}\n",
    "    n = 1\n",
    "    number = customer_id % 999 + 1 #finds trailing 3 numbers\n",
    "    number = str(number).zfill(3)\n",
    "    letr = math.floor(customer_id / 999 + 1)\n",
    "    for x in letters:\n",
    "        for y in letters:\n",
    "            for z in letters:\n",
    "                temp = str(z) + str(y) + str(x)\n",
    "                repo.update({n:temp})\n",
    "                n+=1\n",
    "    lead = repo[letr]\n",
    "    return lead + number"
   ]
  },
  {
   "cell_type": "code",
   "execution_count": 68,
   "metadata": {},
   "outputs": [],
   "source": []
  },
  {
   "cell_type": "code",
   "execution_count": 69,
   "metadata": {},
   "outputs": [
    {
     "data": {
      "text/plain": [
       "17576"
      ]
     },
     "execution_count": 69,
     "metadata": {},
     "output_type": "execute_result"
    }
   ],
   "source": [
    "len(repo)"
   ]
  },
  {
   "cell_type": "code",
   "execution_count": 83,
   "metadata": {},
   "outputs": [
    {
     "data": {
      "text/plain": [
       "'zzz999'"
      ]
     },
     "execution_count": 83,
     "metadata": {},
     "output_type": "execute_result"
    }
   ],
   "source": [
    "find_the_number_plate(17558423)"
   ]
  },
  {
   "cell_type": "code",
   "execution_count": 48,
   "metadata": {},
   "outputs": [
    {
     "data": {
      "text/plain": [
       "17576"
      ]
     },
     "execution_count": 48,
     "metadata": {},
     "output_type": "execute_result"
    }
   ],
   "source": [
    "26**3"
   ]
  },
  {
   "cell_type": "code",
   "execution_count": 105,
   "metadata": {},
   "outputs": [],
   "source": [
    "def longest(a1, a2):\n",
    "    a3 = a1 + a2\n",
    "    a4 = list(a3)\n",
    "    combo = []\n",
    "    for x in a4:\n",
    "        if x in combo:\n",
    "            pass\n",
    "        else:\n",
    "            combo.append(x)\n",
    "    combo.sort()\n",
    "    return str(\"\".join(combo))"
   ]
  },
  {
   "cell_type": "code",
   "execution_count": 104,
   "metadata": {},
   "outputs": [
    {
     "ename": "AttributeError",
     "evalue": "'list' object has no attribute 'join'",
     "output_type": "error",
     "traceback": [
      "\u001b[0;31m---------------------------------------------------------------------------\u001b[0m",
      "\u001b[0;31mAttributeError\u001b[0m                            Traceback (most recent call last)",
      "\u001b[0;32m<ipython-input-104-274a482f9a0a>\u001b[0m in \u001b[0;36m<module>\u001b[0;34m\u001b[0m\n\u001b[0;32m----> 1\u001b[0;31m \u001b[0mlongest\u001b[0m\u001b[0;34m(\u001b[0m\u001b[0;34m\"aretheyhere\"\u001b[0m\u001b[0;34m,\u001b[0m \u001b[0;34m\"yestheyarehere\"\u001b[0m\u001b[0;34m)\u001b[0m\u001b[0;34m\u001b[0m\u001b[0;34m\u001b[0m\u001b[0m\n\u001b[0m",
      "\u001b[0;32m<ipython-input-103-22789db3e060>\u001b[0m in \u001b[0;36mlongest\u001b[0;34m(a1, a2)\u001b[0m\n\u001b[1;32m      9\u001b[0m             \u001b[0mcombo\u001b[0m\u001b[0;34m.\u001b[0m\u001b[0mappend\u001b[0m\u001b[0;34m(\u001b[0m\u001b[0mx\u001b[0m\u001b[0;34m)\u001b[0m\u001b[0;34m\u001b[0m\u001b[0;34m\u001b[0m\u001b[0m\n\u001b[1;32m     10\u001b[0m     \u001b[0mcombo\u001b[0m\u001b[0;34m.\u001b[0m\u001b[0msort\u001b[0m\u001b[0;34m(\u001b[0m\u001b[0;34m)\u001b[0m\u001b[0;34m\u001b[0m\u001b[0;34m\u001b[0m\u001b[0m\n\u001b[0;32m---> 11\u001b[0;31m     \u001b[0;32mreturn\u001b[0m \u001b[0mstr\u001b[0m\u001b[0;34m(\u001b[0m\u001b[0mcombo\u001b[0m\u001b[0;34m.\u001b[0m\u001b[0mjoin\u001b[0m\u001b[0;34m(\u001b[0m\u001b[0;34m\"\"\u001b[0m\u001b[0;34m)\u001b[0m\u001b[0;34m)\u001b[0m\u001b[0;34m\u001b[0m\u001b[0;34m\u001b[0m\u001b[0m\n\u001b[0m",
      "\u001b[0;31mAttributeError\u001b[0m: 'list' object has no attribute 'join'"
     ]
    }
   ],
   "source": [
    "longest(\"aretheyhere\", \"yestheyarehere\")"
   ]
  },
  {
   "cell_type": "code",
   "execution_count": null,
   "metadata": {},
   "outputs": [],
   "source": []
  }
 ],
 "metadata": {
  "kernelspec": {
   "display_name": "Python 3",
   "language": "python",
   "name": "python3"
  },
  "language_info": {
   "codemirror_mode": {
    "name": "ipython",
    "version": 3
   },
   "file_extension": ".py",
   "mimetype": "text/x-python",
   "name": "python",
   "nbconvert_exporter": "python",
   "pygments_lexer": "ipython3",
   "version": "3.8.5"
  }
 },
 "nbformat": 4,
 "nbformat_minor": 4
}
