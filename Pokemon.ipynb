{
 "cells": [
  {
   "cell_type": "code",
   "execution_count": 1,
   "metadata": {},
   "outputs": [
    {
     "name": "stdout",
     "output_type": "stream",
     "text": [
      "Collecting pokebase\n",
      "  Downloading pokebase-1.3.0-py3-none-any.whl (11 kB)\n",
      "Requirement already satisfied: requests in /Users/austinlanglinais/opt/anaconda3/lib/python3.8/site-packages (from pokebase) (2.27.1)\n",
      "Requirement already satisfied: certifi>=2017.4.17 in /Users/austinlanglinais/opt/anaconda3/lib/python3.8/site-packages (from requests->pokebase) (2021.10.8)\n",
      "Requirement already satisfied: idna<4,>=2.5; python_version >= \"3\" in /Users/austinlanglinais/opt/anaconda3/lib/python3.8/site-packages (from requests->pokebase) (3.3)\n",
      "Requirement already satisfied: urllib3<1.27,>=1.21.1 in /Users/austinlanglinais/opt/anaconda3/lib/python3.8/site-packages (from requests->pokebase) (1.26.9)\n",
      "Requirement already satisfied: charset-normalizer~=2.0.0; python_version >= \"3\" in /Users/austinlanglinais/opt/anaconda3/lib/python3.8/site-packages (from requests->pokebase) (2.0.12)\n",
      "Installing collected packages: pokebase\n",
      "Successfully installed pokebase-1.3.0\n",
      "Note: you may need to restart the kernel to use updated packages.\n"
     ]
    }
   ],
   "source": [
    "pip install pokebase"
   ]
  },
  {
   "cell_type": "code",
   "execution_count": 2,
   "metadata": {},
   "outputs": [],
   "source": [
    "import pokebase as pb"
   ]
  },
  {
   "cell_type": "code",
   "execution_count": 5,
   "metadata": {},
   "outputs": [
    {
     "data": {
      "text/plain": [
       "<pokebase.interface.SpriteResource at 0x7fb5fd76bfd0>"
      ]
     },
     "execution_count": 5,
     "metadata": {},
     "output_type": "execute_result"
    }
   ],
   "source": [
    "bulb = pb.SpriteResource('pokemon',1)\n",
    "bulb"
   ]
  },
  {
   "cell_type": "code",
   "execution_count": 12,
   "metadata": {},
   "outputs": [],
   "source": [
    "char = pb.pokemon('charmander')"
   ]
  },
  {
   "cell_type": "code",
   "execution_count": null,
   "metadata": {},
   "outputs": [],
   "source": []
  }
 ],
 "metadata": {
  "kernelspec": {
   "display_name": "Python 3",
   "language": "python",
   "name": "python3"
  },
  "language_info": {
   "codemirror_mode": {
    "name": "ipython",
    "version": 3
   },
   "file_extension": ".py",
   "mimetype": "text/x-python",
   "name": "python",
   "nbconvert_exporter": "python",
   "pygments_lexer": "ipython3",
   "version": "3.8.5"
  }
 },
 "nbformat": 4,
 "nbformat_minor": 4
}
