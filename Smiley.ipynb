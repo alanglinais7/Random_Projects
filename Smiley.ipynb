{
 "cells": [
  {
   "cell_type": "code",
   "execution_count": 38,
   "metadata": {},
   "outputs": [],
   "source": [
    "def count_smileys(arr):\n",
    "    smiley = 0\n",
    "    for x in arr:\n",
    "        if len(x) == 2:\n",
    "            if x[0] == ':' or x[0] == ';':\n",
    "                if x[1] == ')' or x[1] == 'D':\n",
    "                    smiley +=1\n",
    "        elif len(x) == 3:\n",
    "            if x[0] == ':' or x[0] == ';':\n",
    "                if x[1] == '-' or x[1] == '~':\n",
    "                    if x[2] == ')' or x[2] == 'D':\n",
    "                        smiley +=1\n",
    "    return smiley"
   ]
  },
  {
   "cell_type": "code",
   "execution_count": 41,
   "metadata": {},
   "outputs": [],
   "source": [
    "import re\n",
    "\n",
    "def count_smileys2(arr):\n",
    "    return sum(1 for s in arr if re.match(r'\\A[:;][-~]?[)D]\\Z',s))"
   ]
  },
  {
   "cell_type": "code",
   "execution_count": 45,
   "metadata": {},
   "outputs": [],
   "source": [
    "def count_smileys3(arr):\n",
    "    eyes = [\":\", \";\"]\n",
    "    noses = [\"\", \"-\", \"~\"]\n",
    "    mouths = [\")\", \"D\"]\n",
    "    count = 0\n",
    "    for eye in eyes:\n",
    "        for nose in noses:\n",
    "            for mouth in mouths:\n",
    "                face = eye + nose + mouth\n",
    "                count += arr.count(face)\n",
    "    return count"
   ]
  },
  {
   "cell_type": "code",
   "execution_count": 47,
   "metadata": {},
   "outputs": [
    {
     "name": "stdout",
     "output_type": "stream",
     "text": [
      "CPU times: user 1.71 s, sys: 34 ms, total: 1.74 s\n",
      "Wall time: 2.02 s\n"
     ]
    }
   ],
   "source": [
    "%%time\n",
    "for x in range(1000000):\n",
    "    count_smileys([':)',':(',':D',':O',':;'])"
   ]
  },
  {
   "cell_type": "code",
   "execution_count": 48,
   "metadata": {},
   "outputs": [
    {
     "name": "stdout",
     "output_type": "stream",
     "text": [
      "CPU times: user 4.78 s, sys: 28.1 ms, total: 4.81 s\n",
      "Wall time: 4.87 s\n"
     ]
    }
   ],
   "source": [
    "%%time\n",
    "for x in range(1000000):\n",
    "    count_smileys2([':)',':(',':D',':O',':;'])"
   ]
  },
  {
   "cell_type": "code",
   "execution_count": 49,
   "metadata": {},
   "outputs": [
    {
     "name": "stdout",
     "output_type": "stream",
     "text": [
      "CPU times: user 4.3 s, sys: 48.5 ms, total: 4.35 s\n",
      "Wall time: 4.56 s\n"
     ]
    }
   ],
   "source": [
    "%%time\n",
    "for x in range(1000000):\n",
    "    count_smileys3([':)',':(',':D',':O',':;'])"
   ]
  },
  {
   "cell_type": "code",
   "execution_count": 33,
   "metadata": {},
   "outputs": [],
   "source": [
    "if y[1] == ')' or y[1] == 'D':\n",
    "    print('What the fuck')"
   ]
  },
  {
   "cell_type": "code",
   "execution_count": null,
   "metadata": {},
   "outputs": [],
   "source": []
  }
 ],
 "metadata": {
  "kernelspec": {
   "display_name": "Python 3",
   "language": "python",
   "name": "python3"
  },
  "language_info": {
   "codemirror_mode": {
    "name": "ipython",
    "version": 3
   },
   "file_extension": ".py",
   "mimetype": "text/x-python",
   "name": "python",
   "nbconvert_exporter": "python",
   "pygments_lexer": "ipython3",
   "version": "3.8.5"
  }
 },
 "nbformat": 4,
 "nbformat_minor": 4
}
