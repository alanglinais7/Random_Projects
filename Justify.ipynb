{
 "cells": [
  {
   "cell_type": "code",
   "execution_count": 13,
   "metadata": {},
   "outputs": [],
   "source": [
    "def justify(text, width):\n",
    "    list_of_words = text.split()\n",
    "    current_length = 0\n",
    "    current_line = []\n",
    "    lines = [current_line]\n",
    "    for word in list_of_words:\n",
    "        if current_length + len(word) > width:\n",
    "            current_line = [word]\n",
    "            lines.append(current_line)\n",
    "            current_length = len(word) + 1\n",
    "        else:\n",
    "            current_line.append(word)\n",
    "            current_length += len(word) + 1\n",
    "    for i in range(len(lines)-1):\n",
    "        current_line = lines[i]\n",
    "        space_needed = width - sum(len(word) for word in current_line)\n",
    "        while space_needed:\n",
    "            for index in range(len(current_line)-1):\n",
    "                if space_needed == 0:\n",
    "                    break\n",
    "                current_line[index] += ' '\n",
    "                space_needed = space_needed -1\n",
    "        lines[i] = ''.join(current_line) + '\\n'\n",
    "    current_line[-1] = ' '.join(lines[-1])\n",
    "    return ''.join(str(x) for x in lines)"
   ]
  },
  {
   "cell_type": "code",
   "execution_count": 7,
   "metadata": {},
   "outputs": [
    {
     "data": {
      "text/plain": [
       "14"
      ]
     },
     "execution_count": 7,
     "metadata": {},
     "output_type": "execute_result"
    }
   ],
   "source": [
    "str = 'This is a test'\n",
    "len(str)"
   ]
  },
  {
   "cell_type": "code",
   "execution_count": 15,
   "metadata": {},
   "outputs": [],
   "source": [
    "temp = str.split(\" \")"
   ]
  },
  {
   "cell_type": "code",
   "execution_count": 14,
   "metadata": {},
   "outputs": [
    {
     "data": {
      "text/plain": [
       "\"This is\\n['a', 'test']\""
      ]
     },
     "execution_count": 14,
     "metadata": {},
     "output_type": "execute_result"
    }
   ],
   "source": [
    "justify('This is a test', 7)"
   ]
  },
  {
   "cell_type": "code",
   "execution_count": 19,
   "metadata": {},
   "outputs": [
    {
     "ename": "AttributeError",
     "evalue": "'list' object has no attribute 'join'",
     "output_type": "error",
     "traceback": [
      "\u001b[0;31m---------------------------------------------------------------------------\u001b[0m",
      "\u001b[0;31mAttributeError\u001b[0m                            Traceback (most recent call last)",
      "\u001b[0;32m<ipython-input-19-798882ca03b4>\u001b[0m in \u001b[0;36m<module>\u001b[0;34m\u001b[0m\n\u001b[0;32m----> 1\u001b[0;31m \u001b[0mprint\u001b[0m\u001b[0;34m(\u001b[0m\u001b[0mtemp\u001b[0m\u001b[0;34m.\u001b[0m\u001b[0mjoin\u001b[0m\u001b[0;34m(\u001b[0m\u001b[0;34m\" \"\u001b[0m\u001b[0;34m)\u001b[0m\u001b[0;34m)\u001b[0m\u001b[0;34m\u001b[0m\u001b[0;34m\u001b[0m\u001b[0m\n\u001b[0m",
      "\u001b[0;31mAttributeError\u001b[0m: 'list' object has no attribute 'join'"
     ]
    }
   ],
   "source": [
    "print(temp.join(\" \"))"
   ]
  },
  {
   "cell_type": "code",
   "execution_count": 15,
   "metadata": {},
   "outputs": [],
   "source": [
    "def justify2(text, width):\n",
    "    words = text.split()\n",
    "    current_len = 0\n",
    "    line_words = []\n",
    "    lines = [line_words]\n",
    "    for word in words:\n",
    "        if current_len + len(word) > width:\n",
    "            line_words = [word]\n",
    "            lines.append(line_words)\n",
    "            current_len = len(word) + 1\n",
    "        else:\n",
    "            line_words.append(word)\n",
    "            current_len += len(word) + 1\n",
    "    for i in range(len(lines) - 1):\n",
    "        line_words = lines[i]\n",
    "        space_need = width - sum(len(word) for word in line_words)\n",
    "        while space_need:\n",
    "            for index in range(len(line_words) - 1):\n",
    "                if space_need == 0:\n",
    "                    break\n",
    "                line_words[index] += ' '\n",
    "                space_need -= 1\n",
    "        lines[i] = ''.join(line_words) + '\\n'\n",
    "    lines[-1] = ' '.join(lines[-1])\n",
    "    return ''.join(lines)"
   ]
  },
  {
   "cell_type": "code",
   "execution_count": 16,
   "metadata": {},
   "outputs": [
    {
     "data": {
      "text/plain": [
       "'This is\\na test'"
      ]
     },
     "execution_count": 16,
     "metadata": {},
     "output_type": "execute_result"
    }
   ],
   "source": [
    "justify2('This is a test',7)"
   ]
  },
  {
   "cell_type": "code",
   "execution_count": null,
   "metadata": {},
   "outputs": [],
   "source": []
  }
 ],
 "metadata": {
  "kernelspec": {
   "display_name": "Python 3",
   "language": "python",
   "name": "python3"
  },
  "language_info": {
   "codemirror_mode": {
    "name": "ipython",
    "version": 3
   },
   "file_extension": ".py",
   "mimetype": "text/x-python",
   "name": "python",
   "nbconvert_exporter": "python",
   "pygments_lexer": "ipython3",
   "version": "3.8.5"
  }
 },
 "nbformat": 4,
 "nbformat_minor": 4
}
